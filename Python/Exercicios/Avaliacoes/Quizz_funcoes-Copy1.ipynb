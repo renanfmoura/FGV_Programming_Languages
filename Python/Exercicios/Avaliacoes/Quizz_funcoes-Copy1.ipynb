{
 "cells": [
  {
   "cell_type": "markdown",
   "metadata": {},
   "source": [
    "1 - Crie uma função que receba uma lista, um elemento, e acrescente este elemento em uma posição da lista, retornando a lista ao programa"
   ]
  },
  {
   "cell_type": "code",
   "execution_count": 4,
   "metadata": {},
   "outputs": [],
   "source": [
    "def q_1(lista,b):\n",
    "    lista.append(b)\n",
    "    return lista"
   ]
  },
  {
   "cell_type": "code",
   "execution_count": 6,
   "metadata": {},
   "outputs": [
    {
     "name": "stdout",
     "output_type": "stream",
     "text": [
      "[1, 2, 4, 8, 16, 32, 64]\n"
     ]
    }
   ],
   "source": [
    "a = q_1([1,2,4,8,16,32],64)\n",
    "print(a)"
   ]
  },
  {
   "cell_type": "markdown",
   "metadata": {},
   "source": [
    "2 - Crie uma função geradora que, ao ser chamada, imprima o tempo que se passou desde a última chamada"
   ]
  },
  {
   "cell_type": "code",
   "execution_count": null,
   "metadata": {},
   "outputs": [],
   "source": []
  },
  {
   "cell_type": "markdown",
   "metadata": {},
   "source": [
    "3 - Crie uma função que receba um número variado de parâmetros e devolva uma lista com todos estes parâmetros concatenados"
   ]
  },
  {
   "cell_type": "code",
   "execution_count": 11,
   "metadata": {},
   "outputs": [],
   "source": [
    "def q_3(*args):\n",
    "    lista = []\n",
    "    for k in args:\n",
    "        lista.append(k)\n",
    "    return lista"
   ]
  },
  {
   "cell_type": "code",
   "execution_count": 12,
   "metadata": {},
   "outputs": [
    {
     "name": "stdout",
     "output_type": "stream",
     "text": [
      "[9147, 1360, 1233, 4334, 6534, 5423]\n"
     ]
    }
   ],
   "source": [
    "r = q_3(9147,1360,1233,4334,6534,5423)\n",
    "print(r)"
   ]
  }
 ],
 "metadata": {
  "kernelspec": {
   "display_name": "Python 3",
   "language": "python",
   "name": "python3"
  },
  "language_info": {
   "codemirror_mode": {
    "name": "ipython",
    "version": 3
   },
   "file_extension": ".py",
   "mimetype": "text/x-python",
   "name": "python",
   "nbconvert_exporter": "python",
   "pygments_lexer": "ipython3",
   "version": "3.5.2"
  }
 },
 "nbformat": 4,
 "nbformat_minor": 2
}
