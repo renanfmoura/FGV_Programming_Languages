{
 "cells": [
  {
   "cell_type": "markdown",
   "metadata": {},
   "source": [
    "1 - Dadas uma lista qualquer, como a do exemplo abaixo:"
   ]
  },
  {
   "cell_type": "code",
   "execution_count": 1,
   "metadata": {},
   "outputs": [
    {
     "name": "stdout",
     "output_type": "stream",
     "text": [
      "[1, 2, 3, '4', 5, 6.3, (7.4+2j), '123', [1, 2, 3], 93, '98', (1, 2, 3, '4')]\n"
     ]
    }
   ],
   "source": [
    "lista = [1,2,3,'4',5,6.3,7.4 + 2j,\"123\",[1,2,3], 93, \"98\", (1,2,3,'4')]"
   ]
  },
  {
   "cell_type": "markdown",
   "metadata": {},
   "source": [
    "Crie uma função recursiva para imprimir o antecessor e o sucessor de cada elemento de uma lista:\n",
    "+ Caso este elemento seja inteiro, imprimir o valor;  \n",
    "+ Caso seja uma string, imprimir o inteiro correspondente;  \n",
    "+ Caso seja um real, imprima a parte inteira;\n",
    "+ Caso seja um imaginário, imprima a parte inteira e real;\n",
    "+ Caso seja uma sequência, aplique as regras acima para cada elemento da sequência.  "
   ]
  },
  {
   "cell_type": "code",
   "execution_count": null,
   "metadata": {
    "collapsed": true
   },
   "outputs": [],
   "source": []
  },
  {
   "cell_type": "markdown",
   "metadata": {},
   "source": [
    "2 - Crie uma função, ou conjunto de funções, para exibir por extenso o valor de qualquer número inteiro até 1000.  \n",
    "Exemplo:  \n",
    "\n",
    "    print(imprime_extenso(234))  \n",
    "    > 'duzentos e trinta e quatro'  "
   ]
  },
  {
   "cell_type": "code",
   "execution_count": 2,
   "metadata": {},
   "outputs": [
    {
     "ename": "NameError",
     "evalue": "name 'imprime_extenso' is not defined",
     "output_type": "error",
     "traceback": [
      "\u001b[0;31m---------------------------------------------------------------------------\u001b[0m",
      "\u001b[0;31mNameError\u001b[0m                                 Traceback (most recent call last)",
      "\u001b[0;32m<ipython-input-2-21d6393594ba>\u001b[0m in \u001b[0;36m<module>\u001b[0;34m()\u001b[0m\n\u001b[0;32m----> 1\u001b[0;31m \u001b[0mimprime_extenso\u001b[0m\u001b[0;34m(\u001b[0m\u001b[0mint\u001b[0m\u001b[0;34m(\u001b[0m\u001b[0minput\u001b[0m\u001b[0;34m(\u001b[0m\u001b[0;34m)\u001b[0m\u001b[0;34m)\u001b[0m\u001b[0;34m)\u001b[0m\u001b[0;34m\u001b[0m\u001b[0m\n\u001b[0m",
      "\u001b[0;31mNameError\u001b[0m: name 'imprime_extenso' is not defined"
     ]
    }
   ],
   "source": [
    "def imprime_extenso(int(input()))\n",
    "    "
   ]
  },
  {
   "cell_type": "markdown",
   "metadata": {},
   "source": [
    "3- Em alguns lugares é comum lembrar um número do telefone associando seus dígitos a letras. Dessa maneira a expressão MY LOVE significa 69 5683. Claro que existem alguns problemas, uma vez que alguns números de telefone não formam uma palavra ou uma frase e os dígitos 1 e 0 não estão associados a nenhuma letra.  \n",
    "\n",
    "Sua tarefa é ler uma expressão e encontrar o número de telefone correspondente baseado na tabela abaixo. Uma expressão é composta por letras maiúsculas (A-Z), hifens (-) e os números 1 e 0.  \n",
    "\n",
    "Letras  ->  Número  \n",
    "ABC    ->  2   \n",
    "DEF    ->  3   \n",
    "GHI    ->  4   \n",
    "JKL    ->  5   \n",
    "MNO    ->  6   \n",
    "PQRS    ->  7   \n",
    "TUV    ->  8   \n",
    "WXYZ   ->  9   \n",
    "\n",
    "Entrada  \n",
    "\n",
    "A entrada consiste de um conjunto de expressões. Cada expressão está sozinha em uma linha e possui C caracteres, onde 1 ≤ C ≤ 30. A entrada é terminada por fim de arquivo (EOF).  \n",
    "\n",
    "Saída  \n",
    "\n",
    "Para cada expressão você deve imprimir o número de telefone correspondente.  \n",
    "\n",
    "Exemplo de entrada:  \n",
    "\n",
    "1-HOME-SWEET-HOME  \n",
    "MY-MISERABLE-JOB  \n",
    "\n",
    "Saída correspondente:\n",
    "\n",
    "1-4663-79338-4663  \n",
    "69-647372253-562  "
   ]
  },
  {
   "cell_type": "code",
   "execution_count": null,
   "metadata": {
    "collapsed": true
   },
   "outputs": [],
   "source": []
  },
  {
   "cell_type": "markdown",
   "metadata": {},
   "source": [
    "4- Dada um texto em formato string, encontre todas as palavras pertencentes a esta string que contenham uma determinada letra, passada como parâmetro. "
   ]
  },
  {
   "cell_type": "code",
   "execution_count": 2,
   "metadata": {},
   "outputs": [
    {
     "name": "stdout",
     "output_type": "stream",
     "text": [
      "Tem dezessete anos e fugiu de casa Às sete horas na manhã no dia errado Levou na bolsa umas mentiras pra contar Deixou pra trás os pais e o namorado Um passo sem pensar Um outro dia, um outro lugar Pelo caminho, garrafas e cigarros Sem amanhã, por diversão, roubava carros Era Ana Paula, agora é Natasha Usa salto quinze e saia de borracha Um passo sem pensar Um outro dia, um outro lugar O mundo vai acabar E ela só quer dançar O mundo vai acabar E ela só quer dançar, dançar, dançar Pneus de carros cantam Thuru, thuru, thuru, thururu Thuru, thuru, thuru, thururu Thuru, thuru, thuru, thururu Thuru, thuru, thuru, thururu Tem sete vidas mas ninguém sabe de nada Carteira falsa com a idade adulterada O vento sopra enquanto ela morde Desaparece antes que alguém acorde Um passo sem pensar Um outro dia, um outro lugar Cabelo verde, tatuagem no pescoço Um rosto novo, um corpo feito pro pecado A vida é bela, o paraíso é um comprimido Qualquer balaco ilegal ou proibido Um passo sem pensar Um outro dia, um outro lugar O mundo vai acabar E ela só quer dançar O mundo vai acabar E ela só quer dançar, dançar, dançar O mundo vai acabar E ela só quer dançar O mundo vai acabar E ela só quer dançar, dançar, dançar Pneus de carros cantam Thuru, thuru, thuru, thururu Thuru, thuru, thuru, thururu Thuru, thuru, thuru, thururu Thuru, thuru, thuru, thururu Thuru, thuru, thuru, thururu Thuru, thuru, thuru, thururu Thuru, thuru, thuru, thururu Thuru, thuru, thuru, thururu\n",
      "S\n",
      "DEZESSETE\n",
      "ANOS\n",
      "CASA\n",
      "ÀS\n",
      "SETE\n",
      "HORAS\n",
      "BOLSA\n",
      "UMAS\n",
      "MENTIRAS\n",
      "TRÁS\n",
      "OS\n",
      "PAIS\n",
      "PASSO\n",
      "SEM\n",
      "PENSAR\n",
      "GARRAFAS\n",
      "CIGARROS\n",
      "SEM\n",
      "DIVERSÃO,\n",
      "CARROS\n",
      "NATASHA\n",
      "USA\n",
      "SALTO\n",
      "SAIA\n",
      "PASSO\n",
      "SEM\n",
      "PENSAR\n",
      "SÓ\n",
      "SÓ\n",
      "PNEUS\n",
      "CARROS\n",
      "SETE\n",
      "VIDAS\n",
      "MAS\n",
      "SABE\n",
      "FALSA\n",
      "SOPRA\n",
      "DESAPARECE\n",
      "ANTES\n",
      "PASSO\n",
      "SEM\n",
      "PENSAR\n",
      "PESCOÇO\n",
      "ROSTO\n",
      "PARAÍSO\n",
      "PASSO\n",
      "SEM\n",
      "PENSAR\n",
      "SÓ\n",
      "SÓ\n",
      "SÓ\n",
      "SÓ\n",
      "PNEUS\n",
      "CARROS\n"
     ]
    }
   ],
   "source": [
    "texto = str(input()).upper()\n",
    "letra = str(input()).upper()\n",
    "textodividido=texto.split()\n",
    "for x in textodividido:\n",
    "    if letra in x:\n",
    "        print(x)"
   ]
  },
  {
   "cell_type": "code",
   "execution_count": null,
   "metadata": {},
   "outputs": [],
   "source": []
  }
 ],
 "metadata": {
  "kernelspec": {
   "display_name": "Python 3",
   "language": "python",
   "name": "python3"
  },
  "language_info": {
   "codemirror_mode": {
    "name": "ipython",
    "version": 3
   },
   "file_extension": ".py",
   "mimetype": "text/x-python",
   "name": "python",
   "nbconvert_exporter": "python",
   "pygments_lexer": "ipython3",
   "version": "3.5.2"
  }
 },
 "nbformat": 4,
 "nbformat_minor": 2
}
