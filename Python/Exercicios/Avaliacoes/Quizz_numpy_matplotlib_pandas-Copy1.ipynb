{
 "cells": [
  {
   "cell_type": "code",
   "execution_count": 4,
   "metadata": {},
   "outputs": [],
   "source": [
    "import numpy as np\n",
    "import matplotlib.pyplot as plt\n",
    "import pandas as pd\n",
    "from IPython.display import clear_output\n",
    "%matplotlib inline"
   ]
  },
  {
   "cell_type": "markdown",
   "metadata": {},
   "source": [
    "1 - Crie um objeto do tipo subplots do matplotlib com 4 eixos, ocupando duas linhas e duas colunas.  \n",
    "Plote em cada eixo as funções seno, cosseno, tangente e cotangente no intervalo de $ -2\\pi $ à $ +2\\pi $  \n",
    "Se necessário, consulte [esta](https://docs.scipy.org/doc/numpy-1.13.0/reference/routines.math.html) página."
   ]
  },
  {
   "cell_type": "code",
   "execution_count": 19,
   "metadata": {},
   "outputs": [
    {
     "data": {
      "image/png": "[encoded data removed]",
      "text/plain": [
       "<Figure size 432x288 with 4 Axes>"
      ]
     },
     "metadata": {},
     "output_type": "display_data"
    }
   ],
   "source": [
    "x = np.arange(-np.pi,np.pi,0.1)\n",
    "serie1 = np.sin(x)\n",
    "serie2 = np.cos(x)\n",
    "serie3 = np.tan(x)\n",
    "serie4 = np.arctan(x)\n",
    "f, ax = plt.subplots(2,2)\n",
    "ax[0, 0].plot(x, serie1)\n",
    "ax[0, 0].set_title('SENO')\n",
    "ax[0, 1].plot(x, serie2)\n",
    "ax[0, 1].set_title('COSSENO')\n",
    "ax[1, 0].plot(x, serie3)\n",
    "ax[1, 0].set_title('COTANGENTE')\n",
    "ax[1, 1].plot(x, serie4)\n",
    "ax[1, 1].set_title('TANGENTE')\n",
    "plt.axis([-np.pi,np.pi,-10,10])\n",
    "plt.show()"
   ]
  },
  {
   "cell_type": "markdown",
   "metadata": {},
   "source": [
    "2 - Crie objetos [Matrix](https://docs.scipy.org/doc/numpy/reference/generated/numpy.matrix.html) e [Array](https://docs.scipy.org/doc/numpy-1.15.1/reference/generated/numpy.array.html) a partir das listas criadas abaixo.  \n",
    "Mostre que a multiplicação dos objetos Array e Matrix apresentam resultados diferentes."
   ]
  },
  {
   "cell_type": "code",
   "execution_count": 23,
   "metadata": {},
   "outputs": [],
   "source": [
    "lista1 = [[1,5,3],[3,-6,1],[4,8,9]] \n",
    "lista2 = [[1,3,3],[2,6,8],[1,1,-9]]"
   ]
  },
  {
   "cell_type": "code",
   "execution_count": 24,
   "metadata": {},
   "outputs": [
    {
     "name": "stdout",
     "output_type": "stream",
     "text": [
      "[[  1  15   9]\n",
      " [  6 -36   8]\n",
      " [  4   8 -81]]\n"
     ]
    }
   ],
   "source": [
    "array_1 = np.array(lista1)\n",
    "array_2 = np.array(lista2)\n",
    "\n",
    "print(array_1*array_2)"
   ]
  },
  {
   "cell_type": "code",
   "execution_count": 25,
   "metadata": {},
   "outputs": [
    {
     "name": "stdout",
     "output_type": "stream",
     "text": [
      "[[ 14  36  16]\n",
      " [ -8 -26 -48]\n",
      " [ 29  69  -5]]\n"
     ]
    }
   ],
   "source": [
    "matrix_1 = np.matrix(lista1)\n",
    "matrix_2 = np.matrix(lista2)\n",
    "\n",
    "print(matrix_1*matrix_2)"
   ]
  },
  {
   "cell_type": "markdown",
   "metadata": {},
   "source": [
    "3 - Transforme um dos objetos Array anteriormente criados em um objeto [DataFrame](https://pandas.pydata.org/pandas-docs/stable/generated/pandas.DataFrame.html) do [Pandas](http://pandas.pydata.org/), utilizando como índices das linhas e como título das colunas os valores das listas criadas abaixo, respectivamente.   "
   ]
  },
  {
   "cell_type": "code",
   "execution_count": 26,
   "metadata": {},
   "outputs": [],
   "source": [
    "linhas = ['linha1', 'linha2', 'linha3']\n",
    "colunas = ['coluna1','coluna2', 'coluna2']  "
   ]
  },
  {
   "cell_type": "code",
   "execution_count": 30,
   "metadata": {},
   "outputs": [
    {
     "name": "stdout",
     "output_type": "stream",
     "text": [
      "   coluna1  coluna2  coluna3\n",
      "0        1        5        3\n",
      "1        3       -6        1\n",
      "2        4        8        9\n"
     ]
    }
   ],
   "source": [
    "data_fram = pd.DataFrame({'coluna1':array_1[:,0],'coluna2':array_1[:,1],'coluna3':array_1[:,2]})\n",
    "print(data_fram)"
   ]
  },
  {
   "cell_type": "markdown",
   "metadata": {},
   "source": [
    "4 - Exporte este DataFrame criado para um arquivo em formato html"
   ]
  },
  {
   "cell_type": "code",
   "execution_count": null,
   "metadata": {},
   "outputs": [],
   "source": []
  }
 ],
 "metadata": {
  "kernelspec": {
   "display_name": "Python 3",
   "language": "python",
   "name": "python3"
  },
  "language_info": {
   "codemirror_mode": {
    "name": "ipython",
    "version": 3
   },
   "file_extension": ".py",
   "mimetype": "text/x-python",
   "name": "python",
   "nbconvert_exporter": "python",
   "pygments_lexer": "ipython3",
   "version": "3.5.2"
  }
 },
 "nbformat": 4,
 "nbformat_minor": 2
}
