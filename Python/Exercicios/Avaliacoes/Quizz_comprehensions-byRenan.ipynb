{
 "cells": [
  {
   "cell_type": "markdown",
   "metadata": {},
   "source": [
    "1 - Dada a string abaixo:"
   ]
  },
  {
   "cell_type": "code",
   "execution_count": 1,
   "metadata": {
    "collapsed": true
   },
   "outputs": [],
   "source": [
    "jgr = 'Só se pode viver perto de outro, e conhecer outra pessoa, \\\n",
    "sem perigo de ódio, se a gente tem amor. Qualquer amor já é um pouquinho \\\n",
    "de saúde, um descanso na loucura.'"
   ]
  },
  {
   "cell_type": "markdown",
   "metadata": {},
   "source": [
    "Use uma list comprehension para criar uma lista de tuplas na forma:\n",
    "(palavra em maiúscula, palavra em minúscula, tamanho da palavra)"
   ]
  },
  {
   "cell_type": "code",
   "execution_count": 2,
   "metadata": {},
   "outputs": [
    {
     "name": "stdout",
     "output_type": "stream",
     "text": [
      "[('SÓ', 'só', 2), ('SE', 'se', 2), ('PODE', 'pode', 4), ('VIVER', 'viver', 5), ('PERTO', 'perto', 5), ('DE', 'de', 2), ('OUTRO,', 'outro,', 6), ('E', 'e', 1), ('CONHECER', 'conhecer', 8), ('OUTRA', 'outra', 5), ('PESSOA,', 'pessoa,', 7), ('SEM', 'sem', 3), ('PERIGO', 'perigo', 6), ('DE', 'de', 2), ('ÓDIO,', 'ódio,', 5), ('SE', 'se', 2), ('A', 'a', 1), ('GENTE', 'gente', 5), ('TEM', 'tem', 3), ('AMOR.', 'amor.', 5), ('QUALQUER', 'qualquer', 8), ('AMOR', 'amor', 4), ('JÁ', 'já', 2), ('É', 'é', 1), ('UM', 'um', 2), ('POUQUINHO', 'pouquinho', 9), ('DE', 'de', 2), ('SAÚDE,', 'saúde,', 6), ('UM', 'um', 2), ('DESCANSO', 'descanso', 8), ('NA', 'na', 2), ('LOUCURA.', 'loucura.', 8)]\n"
     ]
    }
   ],
   "source": [
    "jgr = 'Só se pode viver perto de outro, e conhecer outra pessoa, \\\n",
    "sem perigo de ódio, se a gente tem amor. Qualquer amor já é um pouquinho \\\n",
    "de saúde, um descanso na loucura.'\n",
    "lista1 = []\n",
    "lista2 = []\n",
    "lista3 = []\n",
    "div=jgr.split()\n",
    "for i in div:\n",
    "    lista1.append(i.upper())\n",
    "    lista2.append(i.lower())\n",
    "    lista3.append(len(i))\n",
    "a=list(zip(lista1,lista2,lista3))\n",
    "print(a)"
   ]
  },
  {
   "cell_type": "markdown",
   "metadata": {},
   "source": [
    "2 - Extraia, do texto abaixo, um dicionário de frequências de palavras na forma {palavra: frequência}. Limpe as palavras no quanto for possível."
   ]
  },
  {
   "cell_type": "code",
   "execution_count": 6,
   "metadata": {},
   "outputs": [],
   "source": [
    "texto = '''\n",
    "Cansaço\n",
    "O que há em mim é sobretudo cansaço —\n",
    "Não disto nem daquilo,\n",
    "Nem sequer de tudo ou de nada:\n",
    "Cansaço assim mesmo, ele mesmo,\n",
    "Cansaço.\n",
    "\n",
    "A subtileza das sensações inúteis,\n",
    "As paixões violentas por coisa nenhuma,\n",
    "Os amores intensos por o suposto em alguém,\n",
    "Essas coisas todas —\n",
    "Essas e o que falta nelas eternamente —;\n",
    "Tudo isso faz um cansaço,\n",
    "Este cansaço,\n",
    "Cansaço. \n",
    "\n",
    "'''"
   ]
  },
  {
   "cell_type": "code",
   "execution_count": 13,
   "metadata": {},
   "outputs": [
    {
     "name": "stdout",
     "output_type": "stream",
     "text": [
      "{'': 3, 'faz': 1, 'coisa': 1, 'em': 2, 'a': 1, 'sequer': 1, 'essas': 2, 'os': 1, 'subtileza': 1, 'nenhuma': 1, 'por': 2, 'amores': 1, 'nelas': 1, 'violentas': 1, 'as': 1, 'isso': 1, 'ou': 1, 'sobretudo': 1, 'o': 3, 'inúteis': 1, 'ele': 1, 'coisas': 1, 'cansaço': 7, 'disto': 1, 'paixões': 1, 'e': 1, 'intensos': 1, 'este': 1, 'assim': 1, 'mesmo': 2, 'que': 2, 'nem': 2, 'um': 1, 'de': 2, 'mim': 1, 'daquilo': 1, 'falta': 1, 'suposto': 1, 'alguém': 1, 'tudo': 2, 'é': 1, 'há': 1, 'não': 1, 'nada': 1, 'eternamente': 1, 'das': 1, 'todas': 1, 'sensações': 1}\n"
     ]
    }
   ],
   "source": [
    "import string\n",
    "dic={}\n",
    "div=texto.split()\n",
    "for i in range(0,len(div)):\n",
    "    c=1\n",
    "    z=div[i].lower()\n",
    "    z=z.strip(string.punctuation+'—')\n",
    "    for x in string.punctuation:\n",
    "        if x in z:\n",
    "            c=0\n",
    "    if z in dic and c==1:\n",
    "        dic[z] += 1\n",
    "    elif z not in dic and c==1:\n",
    "        dic[z]=1\n",
    "print(dic)"
   ]
  },
  {
   "cell_type": "markdown",
   "metadata": {},
   "source": [
    "3- Dadas as características do Calendário Gregoriano:  \n",
    "\n",
    " + Janeiro, Março, Maio, Julho, Agosto, Outubro e Dezembro têm trinta e um dias;\n",
    " + Abril, Junho, Setembro e Novembro têm trinta dias;\n",
    " + Fevereiro tem 28 dias, exceto em anos bissextos, quando tem 29.\n",
    " + Anos bissextos ocorrem quando o ano for divisível por 4, mas não quando for divisível por 100, exceto quando for divisível também por 400.\n",
    " \n",
    " + 1o de Janeiro de 1900 caiu em uma segunda-feira.\n",
    "\n",
    "Responda: Quantos sábados cairam no dia primeiro do mês durante o século XX? (1o de Janeiro de 1901 até 31 Dezembro de 2000)?\n"
   ]
  },
  {
   "cell_type": "code",
   "execution_count": 19,
   "metadata": {},
   "outputs": [
    {
     "name": "stdout",
     "output_type": "stream",
     "text": [
      "165\n"
     ]
    }
   ],
   "source": [
    "diasmeses=[0,31,28,31,30,31,30,31,31,30,31,30,31]\n",
    "cont=0\n",
    "diase=1\n",
    "ano=1900\n",
    "for i in range(1,13):\n",
    "    if i==2:\n",
    "        if (ano%4==0 and ano%100!=0) or ano%400==0:\n",
    "            dessemes=29\n",
    "        else:\n",
    "            dessemes=28\n",
    "    else:\n",
    "        dessemes=diasmeses[i]\n",
    "    diase=diase+dessemes%7+1\n",
    "    if diase>7:\n",
    "        diase=diase-7\n",
    "ano+=1\n",
    "while ano!=2001:\n",
    "    for i in range(1,13):\n",
    "        if diase==6:\n",
    "            cont+=1\n",
    "        if i==2:\n",
    "            if (ano%4==0 and ano%100!=0) or ano%400==0:\n",
    "                dessemes=29\n",
    "            else:\n",
    "                dessemes=28\n",
    "        else:\n",
    "            dessemes=diasmeses[i]\n",
    "        diase=diase+dessemes%7+1\n",
    "        if diase>7:\n",
    "            diase=diase-7\n",
    "    ano+=1\n",
    "print(cont)"
   ]
  },
  {
   "cell_type": "markdown",
   "metadata": {},
   "source": [
    "4- Procure gerar um número (pseudo-)aleatório entre 0 e 9 de forma criativa, usando funções geradoras e o módulo time. \n",
    "Não utilize o módulo random."
   ]
  },
  {
   "cell_type": "code",
   "execution_count": 6,
   "metadata": {},
   "outputs": [],
   "source": [
    "## exemplo para inspirar vocês. Há que se verificar se os números gerados parecem ser aleatórios.\n",
    "import time\n",
    "\n",
    "def numero_aleatorio():\n",
    "    x = time.time()\n",
    "    while True:\n",
    "        num = time.time() - x\n",
    "        #print(num)\n",
    "        num = [n for n in str(num) if n.isdigit()]\n",
    "        num = num[6]\n",
    "        yield int(num)\n",
    "\n",
    "gen = numero_aleatorio()"
   ]
  },
  {
   "cell_type": "code",
   "execution_count": 8,
   "metadata": {},
   "outputs": [
    {
     "name": "stdout",
     "output_type": "stream",
     "text": [
      "1\n"
     ]
    }
   ],
   "source": [
    "print(next(gen))"
   ]
  },
  {
   "cell_type": "code",
   "execution_count": null,
   "metadata": {
    "collapsed": true
   },
   "outputs": [],
   "source": []
  }
 ],
 "metadata": {
  "kernelspec": {
   "display_name": "Python 3",
   "language": "python",
   "name": "python3"
  },
  "language_info": {
   "codemirror_mode": {
    "name": "ipython",
    "version": 3
   },
   "file_extension": ".py",
   "mimetype": "text/x-python",
   "name": "python",
   "nbconvert_exporter": "python",
   "pygments_lexer": "ipython3",
   "version": "3.5.2"
  }
 },
 "nbformat": 4,
 "nbformat_minor": 2
}
